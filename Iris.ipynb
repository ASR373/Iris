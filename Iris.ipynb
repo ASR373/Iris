{
 "cells": [
  {
   "cell_type": "markdown",
   "metadata": {},
   "source": [
    "# Task 2\n",
    "\n",
    "##        - Adith Sreeram A S\n",
    "\n",
    "\n",
    "In this task we have to __predict the optimum number of clusters from the given iris dataset and represent it visually.__\n",
    "\n",
    "__Data can be found here__ - https://bit.ly/3kXTdox\n",
    "\n",
    "The dataset has __four variables namely__ - __Sepal Length(cm), Sepal Width(cm), Petal Length(cm), Petal Width(cm)__ and three species of Iris namely __Iris-setosa, Iris-versicolor, Iris-viginica__"
   ]
  },
  {
   "cell_type": "markdown",
   "metadata": {},
   "source": [
    "# Importing Our Libraries"
   ]
  },
  {
   "cell_type": "code",
   "execution_count": null,
   "metadata": {},
   "outputs": [],
   "source": [
    "import pandas as pd\n",
    "import numpy as np\n",
    "import matplotlib.pyplot as plt\n",
    "import seaborn as sns"
   ]
  },
  {
   "cell_type": "markdown",
   "metadata": {},
   "source": [
    "# Importing data"
   ]
  },
  {
   "cell_type": "code",
   "execution_count": null,
   "metadata": {},
   "outputs": [],
   "source": [
    "path = \"C:\\\\Users\\\\ADITH SREE RAM\\\\Downloads\\\\Iris.csv\"\n",
    "df = pd.read_csv(path)"
   ]
  },
  {
   "cell_type": "code",
   "execution_count": null,
   "metadata": {},
   "outputs": [],
   "source": [
    "df.head()"
   ]
  },
  {
   "cell_type": "code",
   "execution_count": null,
   "metadata": {},
   "outputs": [],
   "source": [
    "df.shape"
   ]
  },
  {
   "cell_type": "code",
   "execution_count": null,
   "metadata": {},
   "outputs": [],
   "source": [
    "df.info()"
   ]
  },
  {
   "cell_type": "code",
   "execution_count": null,
   "metadata": {},
   "outputs": [],
   "source": [
    "#getting our metadata \n",
    "df.describe()"
   ]
  },
  {
   "cell_type": "markdown",
   "metadata": {},
   "source": [
    "# Visualizing Data"
   ]
  },
  {
   "cell_type": "code",
   "execution_count": null,
   "metadata": {},
   "outputs": [],
   "source": [
    "#Scatter plot to determine the relation between 1) sepal length vs sepal width and 2) petal length vs petal width\n",
    "fig = plt.figure(figsize = (16,8))\n",
    "plot1 = fig.add_subplot(121)\n",
    "plot2 = fig.add_subplot(122)\n",
    "\n",
    "plot1.scatter(df.iloc[:, 0], df.iloc[:, 1], c = 'green')\n",
    "plot1.set_title(\"SepalLength vs SepalWidth\")\n",
    "plot1.set_xlabel(\"SepalLength\")\n",
    "plot1.set_ylabel(\"SepalWidth\")\n",
    "\n",
    "plot2.scatter(df.iloc[:, 2], df.iloc[:, 3], c = 'red')\n",
    "plot2.set_title(\"PetalLength vs PetalWidth\")\n",
    "plot2.set_xlabel(\"PetalLength\")\n",
    "plot2.set_ylabel(\"PetalWidth\")\n",
    "\n",
    "plt.show()"
   ]
  },
  {
   "cell_type": "code",
   "execution_count": null,
   "metadata": {},
   "outputs": [],
   "source": [
    "#Scatter plot to determine the relation between 1) sepal length vs petal length and 2) sepal width vs petal width\n",
    "fig = plt.figure(figsize = (16,8), )\n",
    "plot1 = fig.add_subplot(121)\n",
    "plot2 = fig.add_subplot(122)\n",
    "\n",
    "plot1.scatter(df.iloc[:, 0], df.iloc[:, 2], c = 'blue')\n",
    "plot1.set_title(\"SepalLength vs Petallength\")\n",
    "plot1.set_xlabel(\"SepalLength\")\n",
    "plot1.set_ylabel(\"PetalLength\")\n",
    "\n",
    "plot2.scatter(df.iloc[:, 1], df.iloc[:, 3], c = 'indigo')\n",
    "plot2.set_title(\"SepalWidth vs PetalWidth\")\n",
    "plot2.set_xlabel(\"SepalWidth\")\n",
    "plot2.set_ylabel(\"PetalWidth\")\n",
    "\n",
    "plt.show()"
   ]
  },
  {
   "cell_type": "code",
   "execution_count": null,
   "metadata": {},
   "outputs": [],
   "source": [
    "sns.pairplot(df, hue = 'Species', palette=\"YlOrRd\")\n",
    "plt.show()"
   ]
  },
  {
   "cell_type": "code",
   "execution_count": null,
   "metadata": {},
   "outputs": [],
   "source": [
    "sns.heatmap(df.corr(), linewidth = 0.5, cmap = 'magma', annot = True)\n",
    "plt.show()"
   ]
  },
  {
   "cell_type": "markdown",
   "metadata": {},
   "source": [
    "Here we can see that there is a strong positve correlation between __PetalLength, PetalWidth and PetalLength, SepalLength__\n",
    "And a negative correlation between __SepalLength and SepalWidth__"
   ]
  },
  {
   "cell_type": "code",
   "execution_count": null,
   "metadata": {},
   "outputs": [],
   "source": [
    "#Creating a variable X\n",
    "X = df.iloc[:, [0,1,2,3]].values"
   ]
  },
  {
   "cell_type": "markdown",
   "metadata": {},
   "source": [
    "## Performing KMeans Clustering Algorithm"
   ]
  },
  {
   "cell_type": "code",
   "execution_count": null,
   "metadata": {},
   "outputs": [],
   "source": [
    "from sklearn.cluster import KMeans\n",
    "wcss = []\n",
    "for i in range(1,15):\n",
    "    k = KMeans(n_clusters = i, init = 'k-means++', max_iter = 300, n_init = 10, random_state = 101)\n",
    "    k.fit(X)\n",
    "    wcss.append(k.inertia_)"
   ]
  },
  {
   "cell_type": "markdown",
   "metadata": {},
   "source": [
    "# Plotting the Elbow Plot "
   ]
  },
  {
   "cell_type": "markdown",
   "metadata": {},
   "source": [
    "Elbow Plot helps us to find the optimum number of clusters."
   ]
  },
  {
   "cell_type": "code",
   "execution_count": null,
   "metadata": {},
   "outputs": [],
   "source": [
    "elbow = plt.figure(figsize = (10,8))\n",
    "plt.plot(range(1, 15), wcss,)\n",
    "plt.title(\"The Elbow Plot\")\n",
    "plt.xlabel(\"Number of Clusters\")\n",
    "plt.ylabel(\"wcss\")\n",
    "plt.show()"
   ]
  },
  {
   "cell_type": "markdown",
   "metadata": {},
   "source": [
    "## Model"
   ]
  },
  {
   "cell_type": "code",
   "execution_count": null,
   "metadata": {},
   "outputs": [],
   "source": [
    "#Applying KMeans to our dataset\n",
    "k = KMeans(n_clusters = 3, init = 'k-means++', max_iter = 300, n_init = 10, random_state = 101)\n",
    "y_kmeans = k.fit_predict(X)"
   ]
  },
  {
   "cell_type": "markdown",
   "metadata": {},
   "source": [
    "## Visualizing our Clusters"
   ]
  },
  {
   "cell_type": "code",
   "execution_count": null,
   "metadata": {},
   "outputs": [],
   "source": [
    "# Visualizing for the first two columns\n",
    "\n",
    "plt.scatter(X[y_kmeans == 0, 0], X[y_kmeans == 0, 1], \n",
    "            s = 100, c = 'blue', label = 'Iris-setosa')\n",
    "plt.scatter(X[y_kmeans == 1, 0], X[y_kmeans == 1, 1], \n",
    "            s = 100, c = 'orange', label = 'Iris-versicolour')\n",
    "plt.scatter(X[y_kmeans == 2, 0], X[y_kmeans == 2, 1],\n",
    "            s = 100, c = 'green', label = 'Iris-virginica')\n",
    "\n",
    "# Plotting the centroids of the clusters\n",
    "plt.scatter(k.cluster_centers_[:, 0], k.cluster_centers_[:,1], \n",
    "            s = 100, c = 'red', label = 'Centroids')\n",
    "plt.legend()\n",
    "\n",
    "sns.set(rc={'figure.figsize':(5, 5)})"
   ]
  },
  {
   "cell_type": "markdown",
   "metadata": {},
   "source": [
    "## So, Thank you for watching. Like the video and leave a comment down below. "
   ]
  },
  {
   "cell_type": "code",
   "execution_count": null,
   "metadata": {},
   "outputs": [],
   "source": []
  }
 ],
 "metadata": {
  "kernelspec": {
   "display_name": "Python 3",
   "language": "python",
   "name": "python3"
  },
  "language_info": {
   "codemirror_mode": {
    "name": "ipython",
    "version": 3
   },
   "file_extension": ".py",
   "mimetype": "text/x-python",
   "name": "python",
   "nbconvert_exporter": "python",
   "pygments_lexer": "ipython3",
   "version": "3.7.7"
  }
 },
 "nbformat": 4,
 "nbformat_minor": 4
}
